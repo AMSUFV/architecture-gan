{
 "cells": [
  {
   "cell_type": "code",
   "execution_count": 1,
   "metadata": {},
   "outputs": [],
   "source": [
    "# import tensorflow as tf\n",
    "from models.model0 import model0\n",
    "import glob"
   ]
  },
  {
   "cell_type": "code",
   "execution_count": 2,
   "metadata": {},
   "outputs": [],
   "source": [
    "input_path = glob.glob('ruins*/*.png')\n",
    "real_path = glob.glob('reconstruction/*.png')\n",
    "\n",
    "# pix2pix = pix2pix.Pix2Pix(img_width = 512, img_height = 256, epochs = 200)\n",
    "model0 = model0.Model0(img_width = 512, img_height = 256, epochs = 200, save_path = 'images_model0')"
   ]
  },
  {
   "cell_type": "code",
   "execution_count": 3,
   "metadata": {},
   "outputs": [],
   "source": [
    "train_ds, test_ds = model0.gen_dataset(input_path = input_path, real_path = real_path, repeat_real=2)"
   ]
  },
  {
   "cell_type": "code",
   "execution_count": null,
   "metadata": {},
   "outputs": [
    {
     "name": "stdout",
     "output_type": "stream",
     "text": [
      "Epoch 117\n",
      "train loss disc: 2.7726850509643555, train loss gen: 5.452517032623291\n",
      "train acc real: 0.00, train acc generated: 100.00\n",
      "time taken: 60.88\n"
     ]
    }
   ],
   "source": [
    "model0.fit(train_ds, test_ds)"
   ]
  }
 ],
 "metadata": {
  "kernelspec": {
   "display_name": "Python 3",
   "language": "python",
   "name": "python3"
  },
  "language_info": {
   "codemirror_mode": {
    "name": "ipython",
    "version": 3
   },
   "file_extension": ".py",
   "mimetype": "text/x-python",
   "name": "python",
   "nbconvert_exporter": "python",
   "pygments_lexer": "ipython3",
   "version": "3.7.3"
  }
 },
 "nbformat": 4,
 "nbformat_minor": 4
}
